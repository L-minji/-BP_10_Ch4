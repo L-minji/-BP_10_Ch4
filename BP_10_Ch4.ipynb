{
  "nbformat": 4,
  "nbformat_minor": 0,
  "metadata": {
    "colab": {
      "provenance": [],
      "collapsed_sections": [],
      "authorship_tag": "ABX9TyP3q/VqU+A7Umu5d03aYE2f",
      "include_colab_link": true
    },
    "kernelspec": {
      "name": "python3",
      "display_name": "Python 3"
    },
    "language_info": {
      "name": "python"
    }
  },
  "cells": [
    {
      "cell_type": "markdown",
      "metadata": {
        "id": "view-in-github",
        "colab_type": "text"
      },
      "source": [
        "<a href=\"https://colab.research.google.com/github/L-minji/BP_10_Ch4/blob/main/BP_10_Ch4.ipynb\" target=\"_parent\"><img src=\"https://colab.research.google.com/assets/colab-badge.svg\" alt=\"Open In Colab\"/></a>"
      ]
    },
    {
      "cell_type": "code",
      "execution_count": 1,
      "metadata": {
        "colab": {
          "base_uri": "https://localhost:8080/"
        },
        "id": "e9fAMEUv_ohp",
        "outputId": "0b660246-a765-446f-e286-6fd3a197ca4b"
      },
      "outputs": [
        {
          "output_type": "stream",
          "name": "stdout",
          "text": [
            "나는 12개의 사과를 먹었다.\n"
          ]
        }
      ],
      "source": [
        "#1번 문제\n",
        "print(\"나는 12개의 사과를 먹었다.\")   #숫자를 문자열로 변한 시킨 후 합친다."
      ]
    },
    {
      "cell_type": "code",
      "source": [
        "#2번 문제\n",
        "print(\"apple+grape\")      #문자열과 문자열을 합하면 두 개의 문자열이 합쳐진다.\n",
        "print(\"apple\"*3)          #문자열 곱하기 n을 하면 문자열이 n만큼 반복된다."
      ],
      "metadata": {
        "colab": {
          "base_uri": "https://localhost:8080/"
        },
        "id": "XLWFjZdaCA9z",
        "outputId": "5cc53662-65c8-4522-83cc-ec82647a8e52"
      },
      "execution_count": 2,
      "outputs": [
        {
          "output_type": "stream",
          "name": "stdout",
          "text": [
            "apple+grape\n",
            "appleappleapple\n"
          ]
        }
      ]
    },
    {
      "cell_type": "code",
      "source": [
        "#3번 문제\n",
        "letter=input(\"문자열을 입력하시오.:\")\n",
        "print((letter[0:2])+(letter[-2:]))"
      ],
      "metadata": {
        "colab": {
          "base_uri": "https://localhost:8080/"
        },
        "id": "kspNg54PCx3I",
        "outputId": "761d9366-43d5-4e28-d8d4-8ff239f093b4"
      },
      "execution_count": 8,
      "outputs": [
        {
          "output_type": "stream",
          "name": "stdout",
          "text": [
            "문자열을 입력하시오.:python\n",
            "pyon\n"
          ]
        }
      ]
    },
    {
      "cell_type": "code",
      "source": [
        "#4번 문제\n"
      ],
      "metadata": {
        "id": "V_PKlzOGDLkV"
      },
      "execution_count": null,
      "outputs": []
    }
  ]
}